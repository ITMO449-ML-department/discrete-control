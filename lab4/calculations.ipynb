{
 "cells": [
  {
   "cell_type": "code",
   "execution_count": 7,
   "metadata": {},
   "outputs": [],
   "source": [
    "import sympy\n",
    "from sympy.abc import s, z"
   ]
  },
  {
   "cell_type": "code",
   "execution_count": 8,
   "metadata": {},
   "outputs": [],
   "source": [
    "T = z ** -3\n",
    "HG = (z** -2) * (0.02564 * z + 0.09615) / (z - 0.8782)"
   ]
  },
  {
   "cell_type": "code",
   "execution_count": 9,
   "metadata": {},
   "outputs": [
    {
     "data": {
      "text/plain": [
       "'1.00000000000000 -0.878200000000000 0.0 0.0'"
      ]
     },
     "execution_count": 9,
     "metadata": {},
     "output_type": "execute_result"
    }
   ],
   "source": [
    "D1 = ((1 / HG) * (T  / (1 - T))).simplify()\n",
    "\" \".join(map(str, sympy.Poly(sympy.fraction(D1)[0]).all_coeffs()))"
   ]
  },
  {
   "cell_type": "code",
   "execution_count": 10,
   "metadata": {},
   "outputs": [
    {
     "data": {
      "text/plain": [
       "'0.0256400000000000 0.0961500000000000 0.0 -0.0256400000000000 -0.0961500000000000'"
      ]
     },
     "execution_count": 10,
     "metadata": {},
     "output_type": "execute_result"
    }
   ],
   "source": [
    "\" \".join(map(str, sympy.Poly(sympy.fraction(D1)[1]).all_coeffs()))"
   ]
  },
  {
   "cell_type": "code",
   "execution_count": 11,
   "metadata": {},
   "outputs": [
    {
     "data": {
      "text/latex": [
       "$\\displaystyle \\frac{1}{z^{3}}$"
      ],
      "text/plain": [
       "z**(-3)"
      ]
     },
     "execution_count": 11,
     "metadata": {},
     "output_type": "execute_result"
    }
   ],
   "source": [
    "(D1 * HG / (1 + D1 * HG)).simplify()"
   ]
  },
  {
   "cell_type": "markdown",
   "metadata": {},
   "source": [
    "Task2"
   ]
  },
  {
   "cell_type": "code",
   "execution_count": 15,
   "metadata": {},
   "outputs": [
    {
     "data": {
      "text/latex": [
       "$\\displaystyle \\frac{z^{2} \\cdot \\left(0.0835717794808204 - 0.0951625819640405 z\\right)}{\\left(0.02564 z + 0.09615\\right) \\left(- z^{4} + 0.90483741803596 z^{3} + 0.0951625819640405\\right)}$"
      ],
      "text/plain": [
       "z**2*(0.0835717794808204 - 0.0951625819640405*z)/((0.02564*z + 0.09615)*(-z**4 + 0.90483741803596*z**3 + 0.0951625819640405))"
      ]
     },
     "execution_count": 15,
     "metadata": {},
     "output_type": "execute_result"
    }
   ],
   "source": [
    "k = 3\n",
    "q = 10\n",
    "D2 = (1 / HG) * (z**(-k-1) * (1 - sympy.exp(-1/q))) / (1 - sympy.exp(-1/q) * z**-1 - (1 - sympy.exp(-1/q)) * z **(-k-1))\n",
    "D2.simplify()"
   ]
  },
  {
   "cell_type": "code",
   "execution_count": 16,
   "metadata": {},
   "outputs": [
    {
     "data": {
      "text/plain": [
       "'0.0951625819640405 -0.0835717794808204'"
      ]
     },
     "execution_count": 16,
     "metadata": {},
     "output_type": "execute_result"
    }
   ],
   "source": [
    "\" \".join(map(str, sympy.Poly(sympy.fraction(D2)[0]).all_coeffs()))"
   ]
  },
  {
   "cell_type": "code",
   "execution_count": 22,
   "metadata": {},
   "outputs": [
    {
     "ename": "PolynomialError",
     "evalue": "multivariate polynomials not supported",
     "output_type": "error",
     "traceback": [
      "\u001b[0;31m---------------------------------------------------------------------------\u001b[0m",
      "\u001b[0;31mPolynomialError\u001b[0m                           Traceback (most recent call last)",
      "Cell \u001b[0;32mIn[22], line 1\u001b[0m\n\u001b[0;32m----> 1\u001b[0m \u001b[38;5;124m\"\u001b[39m\u001b[38;5;124m \u001b[39m\u001b[38;5;124m\"\u001b[39m\u001b[38;5;241m.\u001b[39mjoin(\u001b[38;5;28mmap\u001b[39m(\u001b[38;5;28mstr\u001b[39m, \u001b[43msympy\u001b[49m\u001b[38;5;241;43m.\u001b[39;49m\u001b[43mPoly\u001b[49m\u001b[43m(\u001b[49m\u001b[43msympy\u001b[49m\u001b[38;5;241;43m.\u001b[39;49m\u001b[43mfraction\u001b[49m\u001b[43m(\u001b[49m\u001b[43mD2\u001b[49m\u001b[43m)\u001b[49m\u001b[43m[\u001b[49m\u001b[38;5;241;43m1\u001b[39;49m\u001b[43m]\u001b[49m\u001b[43m)\u001b[49m\u001b[38;5;241;43m.\u001b[39;49m\u001b[43mall_coeffs\u001b[49m\u001b[43m(\u001b[49m\u001b[43m)\u001b[49m))\n",
      "File \u001b[0;32m~/.pyenv/versions/3.10.9/envs/control/lib/python3.10/site-packages/sympy/polys/polytools.py:944\u001b[0m, in \u001b[0;36mPoly.all_coeffs\u001b[0;34m(f)\u001b[0m\n\u001b[1;32m    930\u001b[0m \u001b[38;5;28;01mdef\u001b[39;00m \u001b[38;5;21mall_coeffs\u001b[39m(f):\n\u001b[1;32m    931\u001b[0m \u001b[38;5;250m    \u001b[39m\u001b[38;5;124;03m\"\"\"\u001b[39;00m\n\u001b[1;32m    932\u001b[0m \u001b[38;5;124;03m    Returns all coefficients from a univariate polynomial ``f``.\u001b[39;00m\n\u001b[1;32m    933\u001b[0m \n\u001b[0;32m   (...)\u001b[0m\n\u001b[1;32m    942\u001b[0m \n\u001b[1;32m    943\u001b[0m \u001b[38;5;124;03m    \"\"\"\u001b[39;00m\n\u001b[0;32m--> 944\u001b[0m     \u001b[38;5;28;01mreturn\u001b[39;00m [f\u001b[38;5;241m.\u001b[39mrep\u001b[38;5;241m.\u001b[39mdom\u001b[38;5;241m.\u001b[39mto_sympy(c) \u001b[38;5;28;01mfor\u001b[39;00m c \u001b[38;5;129;01min\u001b[39;00m \u001b[43mf\u001b[49m\u001b[38;5;241;43m.\u001b[39;49m\u001b[43mrep\u001b[49m\u001b[38;5;241;43m.\u001b[39;49m\u001b[43mall_coeffs\u001b[49m\u001b[43m(\u001b[49m\u001b[43m)\u001b[49m]\n",
      "File \u001b[0;32m~/.pyenv/versions/3.10.9/envs/control/lib/python3.10/site-packages/sympy/polys/polyclasses.py:328\u001b[0m, in \u001b[0;36mDMP.all_coeffs\u001b[0;34m(f)\u001b[0m\n\u001b[1;32m    326\u001b[0m         \u001b[38;5;28;01mreturn\u001b[39;00m \u001b[38;5;28mlist\u001b[39m(f\u001b[38;5;241m.\u001b[39mrep)\n\u001b[1;32m    327\u001b[0m \u001b[38;5;28;01melse\u001b[39;00m:\n\u001b[0;32m--> 328\u001b[0m     \u001b[38;5;28;01mraise\u001b[39;00m PolynomialError(\u001b[38;5;124m'\u001b[39m\u001b[38;5;124mmultivariate polynomials not supported\u001b[39m\u001b[38;5;124m'\u001b[39m)\n",
      "\u001b[0;31mPolynomialError\u001b[0m: multivariate polynomials not supported"
     ]
    }
   ],
   "source": [
    "\" \".join(map(str, sympy.Poly(sympy.fraction(D2)[1]).all_coeffs()))"
   ]
  },
  {
   "cell_type": "code",
   "execution_count": 23,
   "metadata": {},
   "outputs": [
    {
     "data": {
      "text/latex": [
       "$\\displaystyle \\operatorname{Poly}{\\left( 0.02564 z^{3} + 0.072949968601558 z^{2} - 0.0870001177441575 z - 0.00914988225584249 \\frac{1}{z^{2}} - 0.002439968601558 \\frac{1}{z}, z, \\frac{1}{z}, domain=\\mathbb{R} \\right)}$"
      ],
      "text/plain": [
       "Poly(0.02564*z**3 + 0.072949968601558*z**2 - 0.0870001177441575*z - 0.00914988225584249*(1/z)**2 - 0.002439968601558*(1/z), z, 1/z, domain='RR')"
      ]
     },
     "execution_count": 23,
     "metadata": {},
     "output_type": "execute_result"
    }
   ],
   "source": [
    "sympy.Poly(sympy.fraction(D2)[1])"
   ]
  }
 ],
 "metadata": {
  "kernelspec": {
   "display_name": "control",
   "language": "python",
   "name": "python3"
  },
  "language_info": {
   "codemirror_mode": {
    "name": "ipython",
    "version": 3
   },
   "file_extension": ".py",
   "mimetype": "text/x-python",
   "name": "python",
   "nbconvert_exporter": "python",
   "pygments_lexer": "ipython3",
   "version": "3.10.9"
  }
 },
 "nbformat": 4,
 "nbformat_minor": 2
}
